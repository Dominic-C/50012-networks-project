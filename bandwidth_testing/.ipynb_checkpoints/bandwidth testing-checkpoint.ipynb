{
 "cells": [
  {
   "cell_type": "code",
   "execution_count": 6,
   "metadata": {},
   "outputs": [],
   "source": [
    "# this function takes in the path to a log file. Instructions to generate the log file is found on the readme in github\n",
    "with open(\"http3_logs/http3_1.log\", \"r\") as f:\n",
    "    data = f.readlines()\n"
   ]
  },
  {
   "cell_type": "code",
   "execution_count": 18,
   "metadata": {},
   "outputs": [],
   "source": [
    "def get_bandwidth(path):\n",
    "    with open(path, \"r\") as f:\n",
    "        data = f.readlines()\n",
    "    speed = []\n",
    "    for i in range(4, len(data)):\n",
    "        current_speed = data[i].split()[-1].strip(\"\\n\")\n",
    "        speed.append(current_speed)\n",
    "        \n",
    "    byte_array = []\n",
    "    for i in speed:\n",
    "        if i[-1] == \"k\":\n",
    "            byte_array.append(float(i[:-1])* 1000)\n",
    "        elif i[-1] == \"M\":\n",
    "            byte_array.append(float(i[:-1])* 1000000)\n",
    "        elif i[-1] == \"G\":\n",
    "            byte_array.append(float(i[:-1])* 1000000000)\n",
    "        else:\n",
    "            byte_array.append(float(i))\n",
    "        \n",
    "    time = [i for i in range(len(speed))]\n",
    "    return time, byte_array"
   ]
  },
  {
   "cell_type": "code",
   "execution_count": 23,
   "metadata": {},
   "outputs": [],
   "source": [
    "time, speed = get_bandwidth(\"http3_logs/http3_3.log\")"
   ]
  },
  {
   "cell_type": "code",
   "execution_count": 24,
   "metadata": {},
   "outputs": [
    {
     "name": "stdout",
     "output_type": "stream",
     "text": [
      "[0.0, 158000.0, 717000.0, 870000.0, 1099000.0, 1063000.0, 1065000.0, 960000.0, 875000.0, 673000.0, 848000.0, 962000.0]\n"
     ]
    }
   ],
   "source": [
    "print(speed)"
   ]
  },
  {
   "cell_type": "code",
   "execution_count": null,
   "metadata": {},
   "outputs": [],
   "source": []
  }
 ],
 "metadata": {
  "kernelspec": {
   "display_name": "Python 3",
   "language": "python",
   "name": "python3"
  },
  "language_info": {
   "codemirror_mode": {
    "name": "ipython",
    "version": 3
   },
   "file_extension": ".py",
   "mimetype": "text/x-python",
   "name": "python",
   "nbconvert_exporter": "python",
   "pygments_lexer": "ipython3",
   "version": "3.6.8"
  }
 },
 "nbformat": 4,
 "nbformat_minor": 2
}
